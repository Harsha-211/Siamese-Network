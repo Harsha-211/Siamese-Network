{
 "cells": [
  {
   "cell_type": "markdown",
   "id": "a62490b0-23ca-4be0-8296-c5d916b2128a",
   "metadata": {},
   "source": [
    "# Siamese Neural Networks for One-shot Image Recognition"
   ]
  },
  {
   "cell_type": "code",
   "execution_count": 1,
   "id": "496b0ecb-8b89-4a22-97f5-6a35114afd48",
   "metadata": {},
   "outputs": [],
   "source": [
    "from torchvision import datasets, transforms\n",
    "from torch.utils.data import Dataset\n",
    "import random\n",
    "import torch"
   ]
  },
  {
   "cell_type": "code",
   "execution_count": 2,
   "id": "df6d1319-8f9b-44fd-a839-740a2d93f343",
   "metadata": {},
   "outputs": [],
   "source": [
    "from torchvision import datasets, transforms\n",
    "from torch.utils.data import Dataset\n",
    "import torch\n",
    "import random\n",
    "\n",
    "class SiameseMNIST(Dataset):\n",
    "    def __init__(self, train=True):\n",
    "        self.mnist = datasets.MNIST(\n",
    "            root=\"./data\",\n",
    "            train=train,\n",
    "            download=True,\n",
    "            transform=transforms.ToTensor()\n",
    "        )\n",
    "        self.train = train\n",
    "        self.targets = self.mnist.targets\n",
    "        self.data = self.mnist.data\n",
    "\n",
    "    def __getitem__(self, index):\n",
    "        img1 = self.data[index]\n",
    "        label1 = self.targets[index]\n",
    "\n",
    "        # Decide whether to generate a similar or different pair\n",
    "        should_get_same_class = random.randint(0, 1)\n",
    "\n",
    "        if should_get_same_class:\n",
    "            while True:\n",
    "                idx2 = random.randint(0, len(self.data) - 1)\n",
    "                if self.targets[idx2] == label1 and idx2 != index:\n",
    "                    break\n",
    "        else:\n",
    "            while True:\n",
    "                idx2 = random.randint(0, len(self.data) - 1)\n",
    "                if self.targets[idx2] != label1:\n",
    "                    break\n",
    "\n",
    "        img2 = self.data[idx2]\n",
    "        label2 = self.targets[idx2]\n",
    "\n",
    "        # Similar = 0, Dissimilar = 1\n",
    "        target = torch.tensor(int(label1 != label2), dtype=torch.float32)\n",
    "\n",
    "        return img1.unsqueeze(0).float() / 255.0, img2.unsqueeze(0).float() / 255.0, target \n",
    "\n",
    "    def __len__(self):\n",
    "        return len(self.data)\n"
   ]
  },
  {
   "cell_type": "code",
   "execution_count": 3,
   "id": "d8da423b-90df-4d51-a138-e19c1957b915",
   "metadata": {},
   "outputs": [],
   "source": [
    "# Siamese Network\n",
    "import torch.nn as nn\n",
    "import torch.nn.functional as F"
   ]
  },
  {
   "cell_type": "code",
   "execution_count": 4,
   "id": "4a8cb01a-a342-48fc-8e8c-0df06e036816",
   "metadata": {},
   "outputs": [],
   "source": [
    "class SiameseNet(nn.Module):\n",
    "    def __init__(self):\n",
    "        super(SiameseNet, self).__init__()\n",
    "        self.conv = nn.Sequential(\n",
    "            nn.Conv2d(1,16,3),\n",
    "            nn.ReLU(),\n",
    "            nn.MaxPool2d(2),\n",
    "\n",
    "            nn.Conv2d(16,32,3),\n",
    "            nn.ReLU(),\n",
    "            nn.MaxPool2d(2),\n",
    "        )\n",
    "        self.fc = nn.Sequential(\n",
    "            nn.Flatten(),\n",
    "            nn.Linear(32*5*5,256),\n",
    "            nn.ReLU(),\n",
    "            nn.Linear(256,128)\n",
    "        )\n",
    "    def forward_once(self,x):\n",
    "        x = self.conv(x)\n",
    "        x = self.fc(x)\n",
    "        return x\n",
    "    def forward(self, img1, img2):\n",
    "        feat1 = self.forward_once(img1)\n",
    "        feat2 = self.forward_once(img2)\n",
    "        return feat1, feat2"
   ]
  },
  {
   "cell_type": "code",
   "execution_count": 5,
   "id": "712b1832-66fd-40ad-9eec-3c3f3094e79c",
   "metadata": {},
   "outputs": [],
   "source": [
    "class ContrastiveLoss(nn.Module):\n",
    "    def __init__(self, margin=2.0):\n",
    "        super(ContrastiveLoss, self).__init__()\n",
    "        self.margin = margin\n",
    "\n",
    "    def forward(self, feat1, feat2, label):\n",
    "        dist = F.pairwise_distance(feat1, feat2)\n",
    "        loss = (1 - label) * torch.pow(dist, 2) + label * torch.pow(torch.clamp(self.margin - dist, min=0.0), 2)\n",
    "        return loss.mean()\n"
   ]
  },
  {
   "cell_type": "code",
   "execution_count": 6,
   "id": "7e4bfa99-1a6e-420f-a190-eb158e4a3e2d",
   "metadata": {},
   "outputs": [
    {
     "name": "stdout",
     "output_type": "stream",
     "text": [
      "Epoch 1 | Loss: 0.2333\n",
      "Epoch 2 | Loss: 0.1071\n",
      "Epoch 3 | Loss: 0.0822\n",
      "Epoch 4 | Loss: 0.0680\n",
      "Epoch 5 | Loss: 0.0546\n",
      "Epoch 6 | Loss: 0.0482\n",
      "Epoch 7 | Loss: 0.0429\n",
      "Epoch 8 | Loss: 0.0361\n",
      "Epoch 9 | Loss: 0.0331\n",
      "Epoch 10 | Loss: 0.0310\n"
     ]
    }
   ],
   "source": [
    "from torch.utils.data import DataLoader\n",
    "device = torch.device(\"cuda\" if torch.cuda.is_available() else \"cpu\")\n",
    "\n",
    "dataset = SiameseMNIST(train=True)\n",
    "loader = DataLoader(dataset, batch_size=64, shuffle=True)\n",
    "\n",
    "model = SiameseNet().to(device)\n",
    "criterion = ContrastiveLoss()\n",
    "optimizer = torch.optim.Adam(model.parameters(),lr=0.001)\n",
    "\n",
    "for epoch in range(10):\n",
    "    total_loss = 0\n",
    "    for img1, img2, label in loader:\n",
    "        img1, img2, label = img1.to(device), img2.to(device), label.to(device)\n",
    "\n",
    "        feat1,feat2 = model(img1,img2)\n",
    "        loss = criterion(feat1,feat2,label)\n",
    "        optimizer.zero_grad()\n",
    "        loss.backward()\n",
    "        optimizer.step()\n",
    "        total_loss += loss.item()\n",
    "    print(f\"Epoch {epoch+1} | Loss: {total_loss/len(loader):.4f}\")"
   ]
  },
  {
   "cell_type": "code",
   "execution_count": 7,
   "id": "01a08509-e1b0-4c50-b111-5cf3cfd09aeb",
   "metadata": {},
   "outputs": [],
   "source": [
    "def is_same(model, img1, img2, threshold=1.0):\n",
    "    model.eval()\n",
    "    with torch.no_grad():\n",
    "        f1,f2 = model(img1.unsqueeze(0).to(device), img2.unsqueeze(0).to(device))\n",
    "        dist = F.pairwise_disatance(f1,f2).item\n",
    "        return dist<threshold"
   ]
  },
  {
   "cell_type": "code",
   "execution_count": null,
   "id": "c9504c89-65b9-4959-a1f7-8913b24ed4d6",
   "metadata": {},
   "outputs": [],
   "source": []
  }
 ],
 "metadata": {
  "kernelspec": {
   "display_name": "Python 3 (ipykernel)",
   "language": "python",
   "name": "python3"
  },
  "language_info": {
   "codemirror_mode": {
    "name": "ipython",
    "version": 3
   },
   "file_extension": ".py",
   "mimetype": "text/x-python",
   "name": "python",
   "nbconvert_exporter": "python",
   "pygments_lexer": "ipython3",
   "version": "3.13.5"
  }
 },
 "nbformat": 4,
 "nbformat_minor": 5
}
